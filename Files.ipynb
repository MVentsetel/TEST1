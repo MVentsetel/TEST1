{
 "cells": [
  {
   "cell_type": "code",
   "execution_count": 1,
   "id": "d605addc",
   "metadata": {},
   "outputs": [
    {
     "name": "stdout",
     "output_type": "stream",
     "text": [
      "Задание 1\n"
     ]
    }
   ],
   "source": [
    "print(\"Задание 1\")"
   ]
  },
  {
   "cell_type": "code",
   "execution_count": 2,
   "id": "5a1b7a65",
   "metadata": {},
   "outputs": [],
   "source": [
    "import json"
   ]
  },
  {
   "cell_type": "code",
   "execution_count": 3,
   "id": "c46074ce",
   "metadata": {
    "scrolled": false
   },
   "outputs": [
    {
     "name": "stdout",
     "output_type": "stream",
     "text": [
      "['user_id', 'category']\n",
      "['1840e0b9d4', 'РџСЂРѕРґСѓРєС‚С‹']\n",
      "['4e4f90fcfb', 'Р\\xadР»РµРєС‚СЂРѕРЅРёРєР°']\n",
      "['afea8d72fc', 'Р\\xadР»РµРєС‚СЂРѕРЅРёРєР°']\n",
      "['373a6055fe', 'Р‘С‹С‚РѕРІР°СЏ С‚РµС…РЅРёРєР°']\n",
      "['9b2ab046f3', 'Р\\xadР»РµРєС‚СЂРѕРЅРёРєР°']\n"
     ]
    }
   ],
   "source": [
    "i = 0\n",
    "purchases = []\n",
    "with open('/Users/mvent/Python/5_Files/additional/purchase_log.txt') as f:\n",
    "        for line in f:\n",
    "            line = line.strip()\n",
    "            dict_ = json.loads(line)\n",
    "            purchases = [dict_['user_id'], dict_['category']]\n",
    "            print(purchases)\n",
    "            i += 1\n",
    "            if i > 5:\n",
    "                break\n",
    "f.close()"
   ]
  },
  {
   "cell_type": "code",
   "execution_count": 4,
   "id": "488444d5",
   "metadata": {},
   "outputs": [
    {
     "name": "stdout",
     "output_type": "stream",
     "text": [
      "Задание 2\n"
     ]
    }
   ],
   "source": [
    "print(\"Задание 2\")"
   ]
  },
  {
   "cell_type": "code",
   "execution_count": 6,
   "id": "d6358fab",
   "metadata": {},
   "outputs": [
    {
     "name": "stdout",
     "output_type": "stream",
     "text": [
      "user_id,source, category\n",
      "1840e0b9d4,other, РџСЂРѕРґСѓРєС‚С‹\n",
      "4e4f90fcfb,context, Р­Р»РµРєС‚СЂРѕРЅРёРєР°\n",
      "afea8d72fc,other, Р­Р»РµРєС‚СЂРѕРЅРёРєР°\n",
      "2824221f38,email, РџСЂРѕРґСѓРєС‚С‹\n",
      "373a6055fe,other, Р‘С‹С‚РѕРІР°СЏ С‚РµС…РЅРёРєР°\n",
      "9b2ab046f3,other, Р­Р»РµРєС‚СЂРѕРЅРёРєР°\n",
      "9f39d307c3,context, Р­Р»РµРєС‚СЂРѕРЅРёРєР°\n",
      "44edeffc91,context, РџСЂРѕРґСѓРєС‚С‹\n",
      "704474fa2d,other, РџСЂРѕРґСѓРєС‚С‹\n",
      "1de31be403,other, Р‘С‹С‚РѕРІР°СЏ С‚РµС…РЅРёРєР°\n"
     ]
    }
   ],
   "source": [
    "import json\n",
    "i = 0\n",
    "purchases = []\n",
    "with open('/Users/mvent/Python/5_Files/additional/purchase_log.txt') as purch_log:\n",
    "    for line in purch_log:\n",
    "        dict_ = json.loads(line)\n",
    "        purchases.append(dict_)\n",
    "def products_per_cat(prod_cat):\n",
    "    for d in purchases:\n",
    "        if (d['user_id'] == prod_cat):\n",
    "            return d['category']\n",
    "    return None\n",
    "with open('/Users/mvent/Python/5_Files/additional/funnel.csv', 'w') as funnel:\n",
    "    with open('/Users/mvent/Python/5_Files/additional/visit_log.csv') as vis_log:\n",
    "        for line in vis_log:\n",
    "            user_id = line.strip().split(',')[0]\n",
    "            category = products_per_cat(user_id)\n",
    "            if category:\n",
    "                line_out = line.rstrip() + ', ' + str(category) + '\\r'\n",
    "                funnel.write(line_out)\n",
    "                print(line_out)\n",
    "                i += 1\n",
    "                if i > 10:\n",
    "                    break"
   ]
  }
 ],
 "metadata": {
  "kernelspec": {
   "display_name": "Python 3",
   "language": "python",
   "name": "python3"
  },
  "language_info": {
   "codemirror_mode": {
    "name": "ipython",
    "version": 3
   },
   "file_extension": ".py",
   "mimetype": "text/x-python",
   "name": "python",
   "nbconvert_exporter": "python",
   "pygments_lexer": "ipython3",
   "version": "3.8.8"
  }
 },
 "nbformat": 4,
 "nbformat_minor": 5
}
