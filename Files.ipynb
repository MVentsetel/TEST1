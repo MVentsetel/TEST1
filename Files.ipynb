{
 "cells": [
  {
   "cell_type": "code",
   "execution_count": 36,
   "id": "d605addc",
   "metadata": {},
   "outputs": [
    {
     "name": "stdout",
     "output_type": "stream",
     "text": [
      "Задание 1\n"
     ]
    }
   ],
   "source": [
    "print(\"Задание 1\")"
   ]
  },
  {
   "cell_type": "code",
   "execution_count": 38,
   "id": "54c8a199",
   "metadata": {},
   "outputs": [
    {
     "name": "stdout",
     "output_type": "stream",
     "text": [
      "{'user_id': 'category', '1840e0b9d4': 'Продукты', '4e4f90fcfb': 'Электроника', 'afea8d72fc': 'Электроника', '373a6055fe': 'Бытовая техника', '9b2ab046f3': 'Электроника', '9f39d307c3': 'Электроника', '44edeffc91': 'Продукты', '704474fa2d': 'Продукты', '1de31be403': 'Бытовая техника', 'b71f36a5e4': 'Продукты', '79843a685a': 'Продукты', 'ff68cee0d6': 'Бытовая техника', 'e8447c40e2': 'Досуг', '98d290be27': 'Электроника', 'fa0079a5a8': 'Досуг', '22d2f03a17': 'Досуг', '3f8e1ccd3f': 'Электроника', '81a9988b83': 'Электроника', '65f44a2eb7': 'Досуг', '5f8fbb0149': 'Бытовая техника'} <class 'dict'>\n"
     ]
    }
   ],
   "source": [
    "import json\n",
    "i = 0\n",
    "purchases = {}\n",
    "with open('/Users/mvent/Python/5_Files/additional/purchase_log.txt', encoding = 'utf-8') as f:\n",
    "        for line in f:\n",
    "            line = line.strip()\n",
    "            dict_ = json.loads(line)\n",
    "            key = dict_['user_id']\n",
    "            value = dict_['category']\n",
    "            purchases[key] = value\n",
    "            i += 1\n",
    "            if i > 20:\n",
    "                break\n",
    "f.close()\n",
    "print(purchases, type(purchases))"
   ]
  },
  {
   "cell_type": "code",
   "execution_count": 39,
   "id": "488444d5",
   "metadata": {},
   "outputs": [
    {
     "name": "stdout",
     "output_type": "stream",
     "text": [
      "Задание 2\n"
     ]
    }
   ],
   "source": [
    "print(\"Задание 2\")"
   ]
  },
  {
   "cell_type": "code",
   "execution_count": 70,
   "id": "d6358fab",
   "metadata": {},
   "outputs": [
    {
     "name": "stdout",
     "output_type": "stream",
     "text": [
      "user_id,source, category\r\n",
      "1840e0b9d4,other, Продукты\r\n",
      "4e4f90fcfb,context, Электроника\r\n",
      "afea8d72fc,other, Электроника\r\n",
      "2824221f38,email, Продукты\r\n",
      "373a6055fe,other, Бытовая техника\r\n",
      "9b2ab046f3,other, Электроника\r\n",
      "9f39d307c3,context, Электроника\r\n",
      "44edeffc91,context, Продукты\r\n",
      "704474fa2d,other, Продукты\r\n",
      "1de31be403,other, Бытовая техника\r\n",
      "5da0dedf13,context, Досуг\r\n",
      "b71f36a5e4,other, Продукты\r\n",
      "79843a685a,context, Продукты\r\n",
      "ff68cee0d6,context, Бытовая техника\r\n",
      "e8447c40e2,email, Досуг\r\n",
      "b9ef8fdf47,other, Продукты\r\n",
      "98d290be27,other, Электроника\r\n",
      "3fff459bda,other, Электроника\r\n",
      "fa0079a5a8,other, Досуг\r\n",
      "fdd6b2fc76,context, Бытовая техника\r\n",
      "54ecd881a2,other, Бытовая техника\r\n",
      "22d2f03a17,context, Досуг\r\n",
      "c9fa1b54d5,other, Продукты\r\n",
      "3f8e1ccd3f,other, Электроника\r\n",
      "81a9988b83,context, Электроника\r\n",
      "65f44a2eb7,context, Досуг\r\n",
      "6df948569b,other, Бытовая техника\r\n",
      "5f8fbb0149,other, Бытовая техника\r\n",
      "3ecff691fd,context, Электроника\r\n",
      "dd0e912251,other, Электроника\r\n"
     ]
    }
   ],
   "source": [
    "import json\n",
    "i = 0\n",
    "purchases = {}\n",
    "with open('/Users/mvent/Python/5_Files/additional/purchase_log.txt', encoding = 'utf-8') as f:\n",
    "        for line in f:\n",
    "            line = line.strip()\n",
    "            dict_ = json.loads(line)\n",
    "            key = dict_['user_id']\n",
    "            value = dict_['category']\n",
    "            purchases[key] = value\n",
    "with open('/Users/mvent/Python/5_Files/additional/funnel.csv', 'w', encoding = 'utf-8') as funnel:\n",
    "    with open('/Users/mvent/Python/5_Files/additional/visit_log.csv', encoding = 'utf-8') as vis_log:\n",
    "        for line in vis_log:\n",
    "            user_id = line.strip().split(',')[0]\n",
    "            if user_id in purchases.keys():\n",
    "                value = purchases[user_id]\n",
    "                line_out = line.rstrip() + ', ' + str(value) + '\\r'\n",
    "                funnel.write(line_out)\n",
    "                print(line_out)\n",
    "                i += 1\n",
    "                if i > 30:\n",
    "                    break"
   ]
  },
  {
   "cell_type": "code",
   "execution_count": null,
   "id": "1532101f",
   "metadata": {},
   "outputs": [],
   "source": []
  }
 ],
 "metadata": {
  "kernelspec": {
   "display_name": "Python 3",
   "language": "python",
   "name": "python3"
  },
  "language_info": {
   "codemirror_mode": {
    "name": "ipython",
    "version": 3
   },
   "file_extension": ".py",
   "mimetype": "text/x-python",
   "name": "python",
   "nbconvert_exporter": "python",
   "pygments_lexer": "ipython3",
   "version": "3.8.8"
  }
 },
 "nbformat": 4,
 "nbformat_minor": 5
}
