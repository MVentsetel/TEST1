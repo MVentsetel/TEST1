{
 "cells": [
  {
   "cell_type": "code",
   "execution_count": 47,
   "id": "f4528933",
   "metadata": {},
   "outputs": [
    {
     "name": "stdout",
     "output_type": "stream",
     "text": [
      "Задание 1\n"
     ]
    }
   ],
   "source": [
    "print(\"Задание 1\")"
   ]
  },
  {
   "cell_type": "code",
   "execution_count": 80,
   "id": "bf9944a6",
   "metadata": {},
   "outputs": [],
   "source": [
    "import numpy as np"
   ]
  },
  {
   "cell_type": "code",
   "execution_count": 81,
   "id": "5523491a",
   "metadata": {},
   "outputs": [
    {
     "name": "stdout",
     "output_type": "stream",
     "text": [
      "10\n"
     ]
    },
    {
     "data": {
      "text/plain": [
       "array([9, 8, 7, 6, 5, 4, 3, 2, 1, 0])"
      ]
     },
     "execution_count": 81,
     "metadata": {},
     "output_type": "execute_result"
    }
   ],
   "source": [
    "# первый способ\n",
    "N = input()\n",
    "x = np.arange(0,int(N))\n",
    "np.flip(x,0)"
   ]
  },
  {
   "cell_type": "code",
   "execution_count": 82,
   "id": "00d1dd94",
   "metadata": {},
   "outputs": [
    {
     "name": "stdout",
     "output_type": "stream",
     "text": [
      "10\n"
     ]
    },
    {
     "data": {
      "text/plain": [
       "array([9, 8, 7, 6, 5, 4, 3, 2, 1, 0])"
      ]
     },
     "execution_count": 82,
     "metadata": {},
     "output_type": "execute_result"
    }
   ],
   "source": [
    "# второй способ\n",
    "L = input()\n",
    "x = np.arange(0,int(L))\n",
    "x[::-1]"
   ]
  },
  {
   "cell_type": "code",
   "execution_count": 83,
   "id": "dddb608b",
   "metadata": {},
   "outputs": [
    {
     "name": "stdout",
     "output_type": "stream",
     "text": [
      "Задание 2\n"
     ]
    }
   ],
   "source": [
    "print(\"Задание 2\")"
   ]
  },
  {
   "cell_type": "code",
   "execution_count": 100,
   "id": "1a10e054",
   "metadata": {},
   "outputs": [
    {
     "name": "stdout",
     "output_type": "stream",
     "text": [
      "10\n",
      "Сумма главной диагонали равна = 45\n"
     ]
    }
   ],
   "source": [
    "K = input()\n",
    "a = np.diag(np.flip(np.arange(0,int(K)),0))\n",
    "print(f'Сумма главной диагонали равна =',sum(np.diagonal(a)))"
   ]
  },
  {
   "cell_type": "code",
   "execution_count": 101,
   "id": "b954f60c",
   "metadata": {},
   "outputs": [
    {
     "name": "stdout",
     "output_type": "stream",
     "text": [
      "Задание 3\n"
     ]
    }
   ],
   "source": [
    "print(\"Задание 3\")"
   ]
  },
  {
   "cell_type": "code",
   "execution_count": 106,
   "id": "1db18a22",
   "metadata": {},
   "outputs": [],
   "source": [
    "# (4x + 2y + z = 4)\n",
    "# (x + 3y = 12)\n",
    "# (5y + 4z = -3)\n",
    "# x = 0,466 y = 3,844 z = -5,55\n",
    "# решал вручную"
   ]
  },
  {
   "cell_type": "code",
   "execution_count": 110,
   "id": "d3561224",
   "metadata": {},
   "outputs": [
    {
     "data": {
      "text/plain": [
       "array([ 0.46666667,  3.84444444, -5.55555556])"
      ]
     },
     "execution_count": 110,
     "metadata": {},
     "output_type": "execute_result"
    }
   ],
   "source": [
    "from numpy import linalg\n",
    "\n",
    "a = np.array( [ [4, 2, 1], [1, 3, 0], [0, 5, 4] ] )\n",
    "b = np.array( [4, 12, -3] )\n",
    "\n",
    "linalg.solve(a, b)"
   ]
  },
  {
   "cell_type": "code",
   "execution_count": 111,
   "id": "12168e24",
   "metadata": {},
   "outputs": [
    {
     "data": {
      "text/plain": [
       "True"
      ]
     },
     "execution_count": 111,
     "metadata": {},
     "output_type": "execute_result"
    }
   ],
   "source": [
    "np.allclose( np.dot(a, linalg.solve(a, b)), b )"
   ]
  },
  {
   "cell_type": "code",
   "execution_count": 133,
   "id": "91b0b11c",
   "metadata": {},
   "outputs": [
    {
     "name": "stdout",
     "output_type": "stream",
     "text": [
      "Задание 4\n"
     ]
    }
   ],
   "source": [
    "print(\"Задание 4\")"
   ]
  },
  {
   "cell_type": "code",
   "execution_count": 134,
   "id": "0694b242",
   "metadata": {},
   "outputs": [],
   "source": [
    "users_stats = np.array(\n",
    "    [\n",
    "        [2, 1, 0, 0, 0, 0],\n",
    "        [1, 1, 2, 1, 0, 0],\n",
    "        [2, 0, 1, 0, 0, 0],\n",
    "        [1, 1, 2, 1, 0, 1],\n",
    "        [0, 0, 1, 2, 0, 0],\n",
    "        [0, 0, 0, 0, 0, 5],\n",
    "        [1, 0, 0, 0, 0, 0],\n",
    "        [0, 1, 1, 0, 0, 0],\n",
    "        [0, 0, 0, 1, 1, 3],\n",
    "        [1, 0, 0, 2, 1, 4]\n",
    "    ], \n",
    "    np.int32\n",
    ")"
   ]
  },
  {
   "cell_type": "code",
   "execution_count": 140,
   "id": "5d156b54",
   "metadata": {},
   "outputs": [],
   "source": [
    "next_user_stats = np.array([0, 1, 2, 0, 0, 0])"
   ]
  },
  {
   "cell_type": "code",
   "execution_count": 141,
   "id": "3dbe422b",
   "metadata": {},
   "outputs": [],
   "source": [
    "import matplotlib.pyplot as plt"
   ]
  },
  {
   "cell_type": "code",
   "execution_count": 155,
   "id": "949b6ed4",
   "metadata": {},
   "outputs": [
    {
     "name": "stdout",
     "output_type": "stream",
     "text": [
      "0.19999999999999996\n",
      "0.8451542547285165\n",
      "0.3999999999999999\n",
      "0.7905694150420948\n",
      "0.3999999999999999\n",
      "0.0\n",
      "0.0\n",
      "0.9486832980505138\n",
      "0.0\n",
      "0.0\n"
     ]
    }
   ],
   "source": [
    "# делал вручную для самопроверки\n",
    "print(cosine( users_stats[0], next_user_stats ))\n",
    "print(cosine( users_stats[1], next_user_stats ))\n",
    "print(cosine( users_stats[2], next_user_stats ))\n",
    "print(cosine( users_stats[3], next_user_stats ))\n",
    "print(cosine( users_stats[4], next_user_stats ))\n",
    "print(cosine( users_stats[5], next_user_stats ))\n",
    "print(cosine( users_stats[6], next_user_stats ))\n",
    "print(cosine( users_stats[7], next_user_stats ))\n",
    "print(cosine( users_stats[8], next_user_stats ))\n",
    "print(cosine( users_stats[9], next_user_stats ))"
   ]
  },
  {
   "cell_type": "code",
   "execution_count": 174,
   "id": "3845e958",
   "metadata": {},
   "outputs": [
    {
     "data": {
      "text/plain": [
       "array([0.2       , 0.84515425, 0.4       , 0.79056942, 0.4       ,\n",
       "       0.        , 0.        , 0.9486833 , 0.        , 0.        ])"
      ]
     },
     "execution_count": 174,
     "metadata": {},
     "output_type": "execute_result"
    }
   ],
   "source": [
    "cosine_check = np.apply_along_axis(cosine, 1, users_stats, next_user_stats)\n",
    "np.apply_along_axis(cosine, 1, users_stats, next_user_stats)"
   ]
  },
  {
   "cell_type": "code",
   "execution_count": 176,
   "id": "f47b61b3",
   "metadata": {},
   "outputs": [
    {
     "name": "stdout",
     "output_type": "stream",
     "text": [
      "7\n"
     ]
    }
   ],
   "source": [
    "the_most_similar_user = np.argmax(cosine_check)\n",
    "print(the_most_similar_user)"
   ]
  }
 ],
 "metadata": {
  "kernelspec": {
   "display_name": "Python 3",
   "language": "python",
   "name": "python3"
  },
  "language_info": {
   "codemirror_mode": {
    "name": "ipython",
    "version": 3
   },
   "file_extension": ".py",
   "mimetype": "text/x-python",
   "name": "python",
   "nbconvert_exporter": "python",
   "pygments_lexer": "ipython3",
   "version": "3.8.8"
  }
 },
 "nbformat": 4,
 "nbformat_minor": 5
}
