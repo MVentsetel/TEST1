{
 "cells": [
  {
   "cell_type": "code",
   "execution_count": 2,
   "id": "d17d6e57",
   "metadata": {},
   "outputs": [],
   "source": [
    "# Всего 1000 комбинаций\n",
    "# 777: 200 руб.\n",
    "# 999: 100 руб.\n",
    "# 555: 50 руб.\n",
    "# 333: 15 руб.\n",
    "# 111: 10 руб.\n",
    "# *77: 5 руб.\n",
    "# **7: 3 руб.\n",
    "# *00: 2 руб.\n",
    "# **0: 1 руб"
   ]
  },
  {
   "cell_type": "code",
   "execution_count": 16,
   "id": "336c5dff",
   "metadata": {},
   "outputs": [
    {
     "name": "stdout",
     "output_type": "stream",
     "text": [
      "кол-во удачных попыток: 204019\n",
      "кол-во попыток: 1000000\n",
      "вероятность выигрыша: 0.204019\n",
      "сумма выигрыша: 774728\n"
     ]
    }
   ],
   "source": [
    "import numpy as np\n",
    "\n",
    "trials = 1000000    # Количество попыток - миллион\n",
    "successes = 0    # Количество успехов\n",
    "win = 0\n",
    "for i in range(trials):\n",
    "    random_score = np.random.randint(0, 1000)\n",
    "    if random_score == 777:\n",
    "        successes += 1\n",
    "        win += 200\n",
    "    elif random_score == 999:\n",
    "        successes += 1\n",
    "        win += 100\n",
    "    elif random_score == 555:\n",
    "        successes += 1\n",
    "        win += 50\n",
    "    elif random_score == 333:\n",
    "        successes += 1\n",
    "        win += 15\n",
    "    elif random_score == 111:\n",
    "        successes += 1\n",
    "        win += 10\n",
    "    elif random_score == 77|177|277|377|477|577|677|877|977:\n",
    "        successes += 1        \n",
    "        win += 5        \n",
    "    elif random_score % 10 == 7:\n",
    "        successes += 1\n",
    "        win += 3\n",
    "    elif random_score % 100 == 0:\n",
    "        successes += 1\n",
    "        win += 2\n",
    "    elif random_score % 10 == 0:\n",
    "        successes += 1\n",
    "        win += 1\n",
    "    else:\n",
    "        0\n",
    "\n",
    "p = successes / trials \n",
    "print(f'кол-во удачных попыток:', successes)\n",
    "print(f'кол-во попыток:', trials)\n",
    "print(f'вероятность выигрыша:', p)\n",
    "print(f'сумма выигрыша:', win)"
   ]
  },
  {
   "cell_type": "code",
   "execution_count": 18,
   "id": "b093b7be",
   "metadata": {},
   "outputs": [
    {
     "name": "stdout",
     "output_type": "stream",
     "text": [
      "Теоретическая вероятность: 0.213\n",
      "0,809 идет на выигрыш из 1 рубля\n",
      "Игра невыгодна\n"
     ]
    }
   ],
   "source": [
    "# (200 * 0,001 * n) = 0,2n  1\n",
    "# (100 * 0,001 * n) = 0,1n  1\n",
    "# (50 * 0,001 * n) = 0,05n  1\n",
    "# (15 * 0,001 * n) = 0,015n 1\n",
    "# (10 * 0,001 * n) = 0,01n  1\n",
    "# (5 * 0,009 * n) = 0,045n  9\n",
    "# (3 * 0,09 * n) = 0,27n    90\n",
    "# (2 * 0,01 * n) = 0,02n    10\n",
    "# (1 * 0,099 * n) = 0,099n  99\n",
    "# 0,809n - сумма всех уравнений\n",
    "m = 213 / 1000 # Теоретическая вероятность\n",
    "print(f'Теоретическая вероятность:', m)\n",
    "print(f'0,809 идет на выигрыш из 1 рубля')\n",
    "print('Игра невыгодна')"
   ]
  },
  {
   "cell_type": "code",
   "execution_count": null,
   "id": "9eec9151",
   "metadata": {},
   "outputs": [],
   "source": []
  }
 ],
 "metadata": {
  "kernelspec": {
   "display_name": "Python 3",
   "language": "python",
   "name": "python3"
  },
  "language_info": {
   "codemirror_mode": {
    "name": "ipython",
    "version": 3
   },
   "file_extension": ".py",
   "mimetype": "text/x-python",
   "name": "python",
   "nbconvert_exporter": "python",
   "pygments_lexer": "ipython3",
   "version": "3.8.8"
  }
 },
 "nbformat": 4,
 "nbformat_minor": 5
}
