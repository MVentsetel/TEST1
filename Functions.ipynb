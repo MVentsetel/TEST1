{
 "cells": [
  {
   "cell_type": "code",
   "execution_count": 3,
   "id": "120cdd32",
   "metadata": {},
   "outputs": [
    {
     "name": "stdout",
     "output_type": "stream",
     "text": [
      "Задание 1\n"
     ]
    }
   ],
   "source": [
    "print(\"Задание 1\")"
   ]
  },
  {
   "cell_type": "code",
   "execution_count": 4,
   "id": "c4ebbb1b",
   "metadata": {},
   "outputs": [],
   "source": [
    "documents = [\n",
    " {'type': 'passport', 'number': '2207 876234', 'name': 'Василий Гупкин'},\n",
    " {'type': 'invoice', 'number': '11-2', 'name': 'Геннадий Покемонов'},\n",
    " {'type': 'insurance', 'number': '10006', 'name': 'Аристарх Павлов'}\n",
    "]"
   ]
  },
  {
   "cell_type": "code",
   "execution_count": 5,
   "id": "02d5270d",
   "metadata": {},
   "outputs": [],
   "source": [
    "directories = {\n",
    " '1': ['2207 876234', '11-2'],\n",
    " '2': ['10006'],\n",
    " '3': []\n",
    "}"
   ]
  },
  {
   "cell_type": "code",
   "execution_count": 30,
   "id": "6321f14d",
   "metadata": {},
   "outputs": [
    {
     "name": "stdout",
     "output_type": "stream",
     "text": [
      "Пункт 1\n"
     ]
    }
   ],
   "source": [
    "print(\"Пункт 1\")"
   ]
  },
  {
   "cell_type": "code",
   "execution_count": 33,
   "id": "b3b095f0",
   "metadata": {},
   "outputs": [
    {
     "name": "stdout",
     "output_type": "stream",
     "text": [
      "Введите номер документа:10006\n",
      "Владелец документа: Аристарх Павлов\n"
     ]
    }
   ],
   "source": [
    "def p():\n",
    "    found = False\n",
    "    number = input(\"Введите номер документа:\")\n",
    "    for doc in documents:\n",
    "        if doc[\"number\"] == number:\n",
    "            print(\"Владелец документа:\", doc[\"name\"])\n",
    "            found = True\n",
    "\n",
    "    if not found:\n",
    "        print(\"Документ не найден в базе\")\n",
    "\n",
    "p()"
   ]
  },
  {
   "cell_type": "code",
   "execution_count": 8,
   "id": "911e2596",
   "metadata": {},
   "outputs": [
    {
     "name": "stdout",
     "output_type": "stream",
     "text": [
      "Введите номер документа:12345\n",
      "Документ не найден в базе\n"
     ]
    }
   ],
   "source": [
    "def p():\n",
    "    found = False\n",
    "    number = input(\"Введите номер документа:\")\n",
    "    for doc in documents:\n",
    "        if doc[\"number\"] == number:\n",
    "            print(\"Владелец документа:\", doc[\"name\"])\n",
    "            found = True\n",
    "\n",
    "    if not found:\n",
    "        print(\"Документ не найден в базе\")\n",
    "\n",
    "p()"
   ]
  },
  {
   "cell_type": "code",
   "execution_count": 9,
   "id": "29b14e79",
   "metadata": {},
   "outputs": [
    {
     "name": "stdout",
     "output_type": "stream",
     "text": [
      "Пункт 2\n"
     ]
    }
   ],
   "source": [
    "print(\"Пункт 2\")"
   ]
  },
  {
   "cell_type": "code",
   "execution_count": 10,
   "id": "f156850b",
   "metadata": {},
   "outputs": [
    {
     "name": "stdout",
     "output_type": "stream",
     "text": [
      "Введите номер документа:10006\n",
      "Документ хранится на полке: 2\n"
     ]
    }
   ],
   "source": [
    "def s():\n",
    "    found = False\n",
    "    number = input(\"Введите номер документа:\")\n",
    "    for i in directories:\n",
    "        if number in directories[i]:\n",
    "            print(\"Документ хранится на полке:\", i)\n",
    "            found = True\n",
    "\n",
    "    if not found:\n",
    "        print(\"Документ не найден в базе\")\n",
    "\n",
    "s()"
   ]
  },
  {
   "cell_type": "code",
   "execution_count": 11,
   "id": "d14ba49a",
   "metadata": {},
   "outputs": [
    {
     "name": "stdout",
     "output_type": "stream",
     "text": [
      "Введите номер документа:12345\n",
      "Документ не найден в базе\n"
     ]
    }
   ],
   "source": [
    "def s():\n",
    "\n",
    "    found = False\n",
    "    number = input(\"Введите номер документа:\")\n",
    "    for i in directories:\n",
    "        if number in directories[i]:\n",
    "            print(\"Документ хранится на полке:\", i)\n",
    "            found = True\n",
    "\n",
    "    if not found:\n",
    "        print(\"Документ не найден в базе\")\n",
    "\n",
    "s()"
   ]
  },
  {
   "cell_type": "code",
   "execution_count": 12,
   "id": "89d8160d",
   "metadata": {},
   "outputs": [
    {
     "name": "stdout",
     "output_type": "stream",
     "text": [
      "Пункт 3\n"
     ]
    }
   ],
   "source": [
    "print(\"Пункт 3\")"
   ]
  },
  {
   "cell_type": "code",
   "execution_count": 13,
   "id": "77a3c35f",
   "metadata": {},
   "outputs": [
    {
     "name": "stdout",
     "output_type": "stream",
     "text": [
      "№: 2207 876234, тип:passport, владелец:Василий Гупкин, полка хранения: 1\n",
      "№: 11-2, тип:invoice, владелец:Геннадий Покемонов, полка хранения: 1\n",
      "№: 10006, тип:insurance, владелец:Аристарх Павлов, полка хранения: 2\n"
     ]
    }
   ],
   "source": [
    "def j():\n",
    "    for direc in directories:\n",
    "        for number in directories[direc]:\n",
    "            found = next(e for e in documents if e['number'] == number)\n",
    "            print(f'№: {number}, тип:{found[\"type\"]}, владелец:{found[\"name\"]}, полка хранения: {direc}')\n",
    "            \n",
    "j()"
   ]
  },
  {
   "cell_type": "code",
   "execution_count": 14,
   "id": "853a42bf",
   "metadata": {},
   "outputs": [
    {
     "name": "stdout",
     "output_type": "stream",
     "text": [
      "Пункт 4\n"
     ]
    }
   ],
   "source": [
    "print(\"Пункт 4\")"
   ]
  },
  {
   "cell_type": "code",
   "execution_count": 15,
   "id": "493ae55c",
   "metadata": {},
   "outputs": [],
   "source": [
    "directories = {\n",
    " '1': ['2207 876234', '11-2'],\n",
    " '2': ['10006'],\n",
    " '3': []\n",
    "}"
   ]
  },
  {
   "cell_type": "code",
   "execution_count": 16,
   "id": "a8fdf85d",
   "metadata": {},
   "outputs": [
    {
     "name": "stdout",
     "output_type": "stream",
     "text": [
      "Введите номер полки: 10\n",
      "Полка добавлена. Текущий перечень полок: ['1', '2', '3', '10']\n"
     ]
    }
   ],
   "source": [
    "def ads():\n",
    "    direc = input(\"Введите номер полки: \")\n",
    "    for direct in directories.items():\n",
    "        if direc in direct[0]:\n",
    "            print(f\"Такая полка уже существует. Текущий перечень полок: {list(directories.keys())}\")\n",
    "            break\n",
    "    else:\n",
    "        directories[direc] = []\n",
    "        print(f\"Полка добавлена. Текущий перечень полок: {list(directories.keys())}\")\n",
    "     \n",
    "ads()"
   ]
  },
  {
   "cell_type": "code",
   "execution_count": 17,
   "id": "8d5001a8",
   "metadata": {},
   "outputs": [
    {
     "name": "stdout",
     "output_type": "stream",
     "text": [
      "Введите номер полки: 1\n",
      "Такая полка уже существует. Текущий перечень полок: ['1', '2', '3', '10']\n"
     ]
    }
   ],
   "source": [
    "def ads():\n",
    "    direc = input(\"Введите номер полки: \")\n",
    "    for direct in directories.items():\n",
    "        if direc in direct[0]:\n",
    "            print(f\"Такая полка уже существует. Текущий перечень полок: {list(directories.keys())}\")\n",
    "            break\n",
    "    else:\n",
    "        directories[direc] = []\n",
    "        print(f\"Полка добавлена. Текущий перечень полок: {list(directories.keys())}\")\n",
    "     \n",
    "ads()"
   ]
  },
  {
   "cell_type": "code",
   "execution_count": 18,
   "id": "c712dc2f",
   "metadata": {},
   "outputs": [
    {
     "name": "stdout",
     "output_type": "stream",
     "text": [
      "Пункт 5\n"
     ]
    }
   ],
   "source": [
    "print(\"Пункт 5\")"
   ]
  },
  {
   "cell_type": "code",
   "execution_count": 19,
   "id": "f25f0f62",
   "metadata": {},
   "outputs": [],
   "source": [
    "directories = {\n",
    " '1': ['2207 876234', '11-2'],\n",
    " '2': ['10006'],\n",
    " '3': []\n",
    "}"
   ]
  },
  {
   "cell_type": "code",
   "execution_count": 20,
   "id": "8d11a32b",
   "metadata": {},
   "outputs": [
    {
     "name": "stdout",
     "output_type": "stream",
     "text": [
      "Введите номер полки: 3\n",
      "Полка удалена. Текущий перечень полок: 1, 2\n"
     ]
    }
   ],
   "source": [
    "def ds():\n",
    "    number = input(\"Введите номер полки: \")\n",
    "    if number in directories:\n",
    "        if len(directories[number]) > 0:\n",
    "            print('На полке есть документа, удалите их перед удалением полки. Текущий перечень полок: ' + ', '.join(directories.keys()))\n",
    "        else:\n",
    "            del directories[number]\n",
    "            print('Полка удалена. Текущий перечень полок: ' + ', '.join(directories.keys()))\n",
    "    else:\n",
    "        print ('Такой полки не существует. Текущий перечень полок:' + ', '.join(directories.keys()))       \n",
    "    \n",
    "ds()"
   ]
  },
  {
   "cell_type": "code",
   "execution_count": 24,
   "id": "36967f94",
   "metadata": {},
   "outputs": [],
   "source": [
    "directories = {\n",
    " '1': ['2207 876234', '11-2'],\n",
    " '2': ['10006'],\n",
    " '3': []\n",
    "}"
   ]
  },
  {
   "cell_type": "code",
   "execution_count": 25,
   "id": "a18c112c",
   "metadata": {},
   "outputs": [
    {
     "name": "stdout",
     "output_type": "stream",
     "text": [
      "Введите номер полки: 1\n",
      "На полке есть документа, удалите их перед удалением полки. Текущий перечень полок: 1, 2, 3\n"
     ]
    }
   ],
   "source": [
    "def ds():\n",
    "    number = input(\"Введите номер полки: \")\n",
    "    if number in directories:\n",
    "        if len(directories[number]) > 0:\n",
    "            print('На полке есть документа, удалите их перед удалением полки. Текущий перечень полок: ' + ', '.join(directories.keys()))\n",
    "        else:\n",
    "            del directories[number]\n",
    "            print('Полка удалена. Текущий перечень полок: ' + ', '.join(directories.keys()))\n",
    "    else:\n",
    "        print ('Такой полки не существует. Текущий перечень полок:' + ', '.join(directories.keys()))       \n",
    "    \n",
    "ds()"
   ]
  },
  {
   "cell_type": "code",
   "execution_count": 26,
   "id": "d1859952",
   "metadata": {},
   "outputs": [],
   "source": [
    "directories = {\n",
    " '1': ['2207 876234', '11-2'],\n",
    " '2': ['10006'],\n",
    " '3': []\n",
    "}"
   ]
  },
  {
   "cell_type": "code",
   "execution_count": 27,
   "id": "8ee35b2f",
   "metadata": {},
   "outputs": [
    {
     "name": "stdout",
     "output_type": "stream",
     "text": [
      "Введите номер полки: 4\n",
      "Такой полки не существует. Текущий перечень полок:1, 2, 3\n"
     ]
    }
   ],
   "source": [
    "def ds():\n",
    "    number = input(\"Введите номер полки: \")\n",
    "    if number in directories:\n",
    "        if len(directories[number]) > 0:\n",
    "            print('На полке есть документа, удалите их перед удалением полки. Текущий перечень полок: ' + ', '.join(directories.keys()))\n",
    "        else:\n",
    "            del directories[number]\n",
    "            print('Полка удалена. Текущий перечень полок: ' + ', '.join(directories.keys()))\n",
    "    else:\n",
    "        print ('Такой полки не существует. Текущий перечень полок:' + ', '.join(directories.keys()))       \n",
    "    \n",
    "ds()"
   ]
  },
  {
   "cell_type": "code",
   "execution_count": 34,
   "id": "8122acde",
   "metadata": {},
   "outputs": [
    {
     "name": "stdout",
     "output_type": "stream",
     "text": [
      "Введите команду:p\n",
      "Введите номер документа:10006\n",
      "Владелец документа: Аристарх Павлов\n",
      "None\n",
      "Введите команду:p\n",
      "Введите номер документа:12345\n",
      "Документ не найден в базе\n",
      "None\n",
      "Введите команду:s\n",
      "Введите номер документа:10006\n",
      "Документ хранится на полке: 2\n",
      "None\n",
      "Введите команду:s\n",
      "Введите номер документа:12345\n",
      "Документ не найден в базе\n",
      "None\n",
      "Введите команду:j\n",
      "№: 2207 876234, тип:passport, владелец:Василий Гупкин, полка хранения: 1\n",
      "№: 11-2, тип:invoice, владелец:Геннадий Покемонов, полка хранения: 1\n",
      "№: 10006, тип:insurance, владелец:Аристарх Павлов, полка хранения: 2\n",
      "None\n",
      "Введите команду:ads\n",
      "Введите номер полки: 10\n",
      "Такая полка уже существует. Текущий перечень полок: ['1', '2', '10']\n",
      "None\n",
      "Введите команду:ads\n",
      "Введите номер полки: 1\n",
      "Такая полка уже существует. Текущий перечень полок: ['1', '2', '10']\n",
      "None\n",
      "Введите команду:ds\n",
      "Введите номер полки: 1\n",
      "На полке есть документа, удалите их перед удалением полки. Текущий перечень полок: 1, 2, 10\n",
      "None\n",
      "Введите команду:ds\n",
      "Введите номер полки: 3\n",
      "Такой полки не существует. Текущий перечень полок:1, 2, 10\n",
      "None\n",
      "Введите команду:ds\n",
      "Введите номер полки: 4\n",
      "Такой полки не существует. Текущий перечень полок:1, 2, 10\n",
      "None\n",
      "Введите команду:q\n",
      "До свидания!\n"
     ]
    }
   ],
   "source": [
    "def main():\n",
    "    while True:\n",
    "        user_input = input('Введите команду:')\n",
    "        if user_input == 'p':\n",
    "            print(p())\n",
    "        elif user_input == 's':\n",
    "            print(s())\n",
    "        elif user_input == 'j':\n",
    "            print(j())\n",
    "        elif user_input == 'ads':\n",
    "            print(ads())\n",
    "        elif user_input == 'ds':\n",
    "            print(ds())\n",
    "        elif user_input == 'q':\n",
    "            print('До свидания!')\n",
    "            break\n",
    "\n",
    "main()"
   ]
  },
  {
   "cell_type": "code",
   "execution_count": null,
   "id": "50019c71",
   "metadata": {},
   "outputs": [],
   "source": []
  }
 ],
 "metadata": {
  "kernelspec": {
   "display_name": "Python 3",
   "language": "python",
   "name": "python3"
  },
  "language_info": {
   "codemirror_mode": {
    "name": "ipython",
    "version": 3
   },
   "file_extension": ".py",
   "mimetype": "text/x-python",
   "name": "python",
   "nbconvert_exporter": "python",
   "pygments_lexer": "ipython3",
   "version": "3.8.8"
  }
 },
 "nbformat": 4,
 "nbformat_minor": 5
}
