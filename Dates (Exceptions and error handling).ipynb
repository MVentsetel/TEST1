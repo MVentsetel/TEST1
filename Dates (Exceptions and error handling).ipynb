{
 "cells": [
  {
   "cell_type": "code",
   "execution_count": 7,
   "metadata": {},
   "outputs": [
    {
     "name": "stdout",
     "output_type": "stream",
     "text": [
      "Задание 1\n"
     ]
    }
   ],
   "source": [
    "print('Задание 1')"
   ]
  },
  {
   "cell_type": "code",
   "execution_count": 8,
   "metadata": {},
   "outputs": [],
   "source": [
    "The_Moscow_Times = 'Wednesday, October 2, 2002'\n",
    "The_Guardian = 'Friday, 11.10.13'\n",
    "Daily_News = 'Thursday, 18 August 1977'"
   ]
  },
  {
   "cell_type": "code",
   "execution_count": 9,
   "metadata": {},
   "outputs": [],
   "source": [
    "from datetime import datetime"
   ]
  },
  {
   "cell_type": "code",
   "execution_count": 10,
   "metadata": {},
   "outputs": [
    {
     "data": {
      "text/plain": [
       "datetime.datetime(2002, 10, 2, 0, 0)"
      ]
     },
     "execution_count": 10,
     "metadata": {},
     "output_type": "execute_result"
    }
   ],
   "source": [
    "datetime.strptime('Wednesday, October 2, 2002', '%A, %B %d,  %Y')"
   ]
  },
  {
   "cell_type": "code",
   "execution_count": 11,
   "metadata": {},
   "outputs": [
    {
     "data": {
      "text/plain": [
       "datetime.datetime(2013, 10, 11, 0, 0)"
      ]
     },
     "execution_count": 11,
     "metadata": {},
     "output_type": "execute_result"
    }
   ],
   "source": [
    "datetime.strptime('Friday, 11.10.13', '%A, %d.%m.%y')"
   ]
  },
  {
   "cell_type": "code",
   "execution_count": 12,
   "metadata": {},
   "outputs": [
    {
     "data": {
      "text/plain": [
       "datetime.datetime(1977, 8, 18, 0, 0)"
      ]
     },
     "execution_count": 12,
     "metadata": {},
     "output_type": "execute_result"
    }
   ],
   "source": [
    "datetime.strptime('Thursday, 18 August 1977', '%A, %d %B %Y')"
   ]
  },
  {
   "cell_type": "code",
   "execution_count": 13,
   "metadata": {},
   "outputs": [
    {
     "name": "stdout",
     "output_type": "stream",
     "text": [
      "Задание 2\n"
     ]
    }
   ],
   "source": [
    "print('Задание 2')"
   ]
  },
  {
   "cell_type": "code",
   "execution_count": 14,
   "metadata": {},
   "outputs": [],
   "source": [
    "stream = ['2018-04-02', '2018-02-29', '2018-19-02']"
   ]
  },
  {
   "cell_type": "code",
   "execution_count": 15,
   "metadata": {},
   "outputs": [
    {
     "data": {
      "text/plain": [
       "datetime.datetime(2018, 4, 2, 0, 0)"
      ]
     },
     "execution_count": 15,
     "metadata": {},
     "output_type": "execute_result"
    }
   ],
   "source": [
    "stream_check = datetime.strptime(stream[0], '%Y-%m-%d')\n",
    "stream_check"
   ]
  },
  {
   "cell_type": "code",
   "execution_count": 16,
   "metadata": {},
   "outputs": [
    {
     "name": "stdout",
     "output_type": "stream",
     "text": [
      "True\n",
      "False\n",
      "False\n"
     ]
    }
   ],
   "source": [
    "def date_check():\n",
    "    i = 0\n",
    "    for i in stream:\n",
    "        try:\n",
    "            i = datetime.strptime(i, '%Y-%m-%d')\n",
    "            print(True)\n",
    "        except:\n",
    "            print(False)\n",
    "date_check()"
   ]
  },
  {
   "cell_type": "code",
   "execution_count": 35,
   "metadata": {},
   "outputs": [
    {
     "name": "stdout",
     "output_type": "stream",
     "text": [
      "Задание 3\n"
     ]
    }
   ],
   "source": [
    "print('Задание 3')"
   ]
  },
  {
   "cell_type": "code",
   "execution_count": 36,
   "metadata": {},
   "outputs": [],
   "source": [
    "from datetime import timedelta"
   ]
  },
  {
   "cell_type": "code",
   "execution_count": 70,
   "metadata": {},
   "outputs": [
    {
     "name": "stdout",
     "output_type": "stream",
     "text": [
      "Введите начальную дату в формате YYYY-MM-DD: 2021-01-01\n",
      "Введите финальную дату в формате YYYY-MM-DD: 2021-01-05\n",
      "2021-01-02\n",
      "2021-01-03\n",
      "2021-01-04\n",
      "2021-01-05\n"
     ]
    }
   ],
   "source": [
    "def date_range():\n",
    "    try:\n",
    "        start_date = input(\"Введите начальную дату в формате YYYY-MM-DD: \") \n",
    "        end_date = input(\"Введите финальную дату в формате YYYY-MM-DD: \")\n",
    "        start_date_dt = datetime.strptime(start_date, '%Y-%m-%d')\n",
    "        end_date_dt = datetime.strptime(end_date, '%Y-%m-%d')\n",
    "        if start_date_dt < end_date_dt:\n",
    "            while start_date_dt < end_date_dt:\n",
    "                start_date_dt += timedelta(days=1)\n",
    "                print(start_date_dt.strftime('%Y-%m-%d'))            \n",
    "        else:\n",
    "            print(\"Проверьте даты!\")\n",
    "    except ValueError:\n",
    "        print(\"Ошибка ввода данных\")\n",
    "        \n",
    "date_range()"
   ]
  },
  {
   "cell_type": "code",
   "execution_count": 71,
   "metadata": {},
   "outputs": [
    {
     "name": "stdout",
     "output_type": "stream",
     "text": [
      "Введите начальную дату в формате YYYY-MM-DD: 2021-05-01\n",
      "Введите финальную дату в формате YYYY-MM-DD: 2021-01-01\n",
      "Проверьте даты!\n"
     ]
    }
   ],
   "source": [
    "def date_range():\n",
    "    try:\n",
    "        start_date = input(\"Введите начальную дату в формате YYYY-MM-DD: \") \n",
    "        end_date = input(\"Введите финальную дату в формате YYYY-MM-DD: \")\n",
    "        start_date_dt = datetime.strptime(start_date, '%Y-%m-%d')\n",
    "        end_date_dt = datetime.strptime(end_date, '%Y-%m-%d')\n",
    "        if start_date_dt < end_date_dt:\n",
    "            while start_date_dt < end_date_dt:\n",
    "                start_date_dt += timedelta(days=1)\n",
    "                print(start_date_dt.strftime('%Y-%m-%d'))            \n",
    "        else:\n",
    "            print(\"Проверьте даты!\")\n",
    "    except ValueError:\n",
    "        print(\"Ошибка ввода данных\")\n",
    "        \n",
    "date_range()"
   ]
  },
  {
   "cell_type": "code",
   "execution_count": 72,
   "metadata": {},
   "outputs": [
    {
     "name": "stdout",
     "output_type": "stream",
     "text": [
      "Введите начальную дату в формате YYYY-MM-DD: 2021=01=05\n",
      "Введите финальную дату в формате YYYY-MM-DD: 2021-01-05\n",
      "Ошибка ввода данных\n"
     ]
    }
   ],
   "source": [
    "def date_range():\n",
    "    try:\n",
    "        start_date = input(\"Введите начальную дату в формате YYYY-MM-DD: \") \n",
    "        end_date = input(\"Введите финальную дату в формате YYYY-MM-DD: \")\n",
    "        start_date_dt = datetime.strptime(start_date, '%Y-%m-%d')\n",
    "        end_date_dt = datetime.strptime(end_date, '%Y-%m-%d')\n",
    "        if start_date_dt < end_date_dt:\n",
    "            while start_date_dt < end_date_dt:\n",
    "                start_date_dt += timedelta(days=1)\n",
    "                print(start_date_dt.strftime('%Y-%m-%d'))            \n",
    "        else:\n",
    "            print(\"Проверьте даты!\")\n",
    "    except ValueError:\n",
    "        print(\"Ошибка ввода данных\")\n",
    "        \n",
    "date_range()"
   ]
  },
  {
   "cell_type": "code",
   "execution_count": null,
   "metadata": {},
   "outputs": [],
   "source": []
  }
 ],
 "metadata": {
  "kernelspec": {
   "display_name": "Python 3",
   "language": "python",
   "name": "python3"
  },
  "language_info": {
   "codemirror_mode": {
    "name": "ipython",
    "version": 3
   },
   "file_extension": ".py",
   "mimetype": "text/x-python",
   "name": "python",
   "nbconvert_exporter": "python",
   "pygments_lexer": "ipython3",
   "version": "3.8.8"
  }
 },
 "nbformat": 4,
 "nbformat_minor": 2
}
