{
 "cells": [
  {
   "cell_type": "code",
   "execution_count": 138,
   "id": "f5921f6a",
   "metadata": {},
   "outputs": [
    {
     "name": "stdout",
     "output_type": "stream",
     "text": [
      "Задание 1\n"
     ]
    }
   ],
   "source": [
    "print('Задание 1')"
   ]
  },
  {
   "cell_type": "code",
   "execution_count": 139,
   "id": "e0c98c13",
   "metadata": {},
   "outputs": [],
   "source": [
    "import re"
   ]
  },
  {
   "cell_type": "code",
   "execution_count": 140,
   "id": "745d82d8",
   "metadata": {},
   "outputs": [],
   "source": [
    "car_id_1 = 'А222ВС96'\n",
    "car_id_2 = 'АБ22ВВ193'"
   ]
  },
  {
   "cell_type": "code",
   "execution_count": 142,
   "id": "b634b539",
   "metadata": {},
   "outputs": [
    {
     "name": "stdout",
     "output_type": "stream",
     "text": [
      "Введите номер авто: А222ВС96\n",
      "Номер А222ВС валиден. Регион: 96\n"
     ]
    }
   ],
   "source": [
    "def auto_number_check():\n",
    "    auto_number = input(\"Введите номер авто: \")\n",
    "    if re.findall(r'[АВЕКМНОРСТУХ]\\d{3}[АВЕКМНОРСТУХ]{2}\\d{2,3}',  auto_number):\n",
    "        print(f'Номер {auto_number[0:6]} валиден. Регион: {auto_number[6:]}')\n",
    "    else:\n",
    "        print ('Номер не валиден')       \n",
    "    \n",
    "auto_number_check()"
   ]
  },
  {
   "cell_type": "code",
   "execution_count": 144,
   "id": "82039013",
   "metadata": {},
   "outputs": [
    {
     "name": "stdout",
     "output_type": "stream",
     "text": [
      "Введите номер авто: АБ22ВВ193\n",
      "Номер не валиден\n"
     ]
    }
   ],
   "source": [
    "def auto_number_check():\n",
    "    auto_number = input(\"Введите номер авто: \")\n",
    "    if re.findall(r'[АВЕКМНОРСТУХ]\\d{3}[АВЕКМНОРСТУХ]{2}\\d{2,3}',  auto_number):\n",
    "        print(f'Номер {auto_number[0:6]} валиден. Регион: {auto_number[6:]}')\n",
    "    else:\n",
    "        print ('Номер не валиден')       \n",
    "    \n",
    "auto_number_check()"
   ]
  },
  {
   "cell_type": "code",
   "execution_count": 145,
   "id": "503e6044",
   "metadata": {},
   "outputs": [
    {
     "name": "stdout",
     "output_type": "stream",
     "text": [
      "Задание 2\n"
     ]
    }
   ],
   "source": [
    "print('Задание 2')"
   ]
  },
  {
   "cell_type": "code",
   "execution_count": 147,
   "id": "3f5eef54",
   "metadata": {},
   "outputs": [],
   "source": [
    "some_string = 'Напишите функцию функцию, которая будет будет будет будет удалять все все все все последовательные повторы слов из из из из заданной строки строки при помощи регулярных выражений'"
   ]
  },
  {
   "cell_type": "code",
   "execution_count": 148,
   "id": "a77db49d",
   "metadata": {},
   "outputs": [
    {
     "name": "stdout",
     "output_type": "stream",
     "text": [
      "Введите текст: Напишите функцию функцию, которая будет будет будет будет удалять все все все все последовательные повторы слов из из из из заданной строки строки при помощи регулярных выражений\n",
      "Напишите функцию, которая будет удалять все последовательные повторы слов из заданой строки при помощи регулярных выражений\n"
     ]
    }
   ],
   "source": [
    "def delete_dublicate():\n",
    "    text = input(\"Введите текст: \")\n",
    "    if re.sub(r'(.+?)\\1+', r'\\1',  text):\n",
    "        print(re.sub(r'(.+?)\\1+', r'\\1',  text))\n",
    "\n",
    "delete_dublicate()"
   ]
  },
  {
   "cell_type": "code",
   "execution_count": 149,
   "id": "b969d7c3",
   "metadata": {},
   "outputs": [
    {
     "name": "stdout",
     "output_type": "stream",
     "text": [
      "Задание 3\n"
     ]
    }
   ],
   "source": [
    "print('Задание 3')"
   ]
  },
  {
   "cell_type": "code",
   "execution_count": null,
   "id": "cf3add9a",
   "metadata": {},
   "outputs": [],
   "source": [
    "some_words = 'Информационные технологии'\n",
    "some_words = 'Near Field Communication'"
   ]
  },
  {
   "cell_type": "code",
   "execution_count": 112,
   "id": "37831e60",
   "metadata": {},
   "outputs": [
    {
     "name": "stdout",
     "output_type": "stream",
     "text": [
      "Введите текст: Информационные технологии\n",
      "ИТ\n"
     ]
    }
   ],
   "source": [
    "def Akronym():\n",
    "    text_2 = input(\"Введите текст: \")\n",
    "    result = re.findall(r'\\b[a-zA-Z|а-яёА-ЯЁ]', text_2)\n",
    "    print(''.join(result).upper())\n",
    "\n",
    "Akronym()"
   ]
  },
  {
   "cell_type": "code",
   "execution_count": 113,
   "id": "da7dfea2",
   "metadata": {},
   "outputs": [
    {
     "name": "stdout",
     "output_type": "stream",
     "text": [
      "Введите текст: Near Field Communication\n",
      "NFC\n"
     ]
    }
   ],
   "source": [
    "def Akronym():\n",
    "    text_2 = input(\"Введите текст: \")\n",
    "    result = re.findall(r'\\b[a-zA-Z|а-яёА-ЯЁ]', text_2)\n",
    "    print(''.join(result).upper())\n",
    "\n",
    "Akronym()"
   ]
  },
  {
   "cell_type": "code",
   "execution_count": 150,
   "id": "303fba6d",
   "metadata": {},
   "outputs": [
    {
     "name": "stdout",
     "output_type": "stream",
     "text": [
      "Задание 4\n"
     ]
    }
   ],
   "source": [
    "print('Задание 4')"
   ]
  },
  {
   "cell_type": "code",
   "execution_count": 160,
   "id": "376dae95",
   "metadata": {},
   "outputs": [
    {
     "data": {
      "text/plain": [
       "\"['test@gmail.com, xyz@test.in, test@ya.ru, xyz@mail.ru, xyz@ya.ru', 'xyz@gmail.com']\""
      ]
     },
     "execution_count": 160,
     "metadata": {},
     "output_type": "execute_result"
    }
   ],
   "source": [
    "emails = ['test@gmail.com, xyz@test.in, test@ya.ru, xyz@mail.ru, xyz@ya.ru', 'xyz@gmail.com']\n",
    "str(emails)"
   ]
  },
  {
   "cell_type": "code",
   "execution_count": 180,
   "id": "794c8546",
   "metadata": {},
   "outputs": [],
   "source": [
    "emails = ['test@gmail.com, xyz@test.in, test@ya.ru, xyz@mail.ru, xyz@ya.ru', 'xyz@gmail.com']"
   ]
  },
  {
   "cell_type": "code",
   "execution_count": 184,
   "id": "29b167c1",
   "metadata": {},
   "outputs": [
    {
     "name": "stdout",
     "output_type": "stream",
     "text": [
      "['@gmail.com', '@gmail.com'] : 2\n",
      "['@test.in'] : 1\n",
      "['@ya.ru', '@ya.ru'] : 2\n",
      "['@mail.ru'] : 1\n"
     ]
    }
   ],
   "source": [
    "def domen_count():\n",
    "    emails = ['test@gmail.com, xyz@test.in, test@ya.ru, xyz@mail.ru, xyz@ya.ru', 'xyz@gmail.com']\n",
    "    check1 = re.findall(r'@\\w+.com', str(emails))\n",
    "    check2 = re.findall(r'@\\w+.in', str(emails))\n",
    "    check3 = re.findall(r'@\\w{2}.ru', str(emails))\n",
    "    check4 = re.findall(r'@\\w{4}.ru', str(emails))\n",
    "\n",
    "    print(check1, ':', len(check1))\n",
    "    print(check2, ':', len(check2))\n",
    "    print(check3, ':', len(check3))\n",
    "    print(check4, ':', len(check4))\n",
    "\n",
    "domen_count()"
   ]
  }
 ],
 "metadata": {
  "kernelspec": {
   "display_name": "Python 3",
   "language": "python",
   "name": "python3"
  },
  "language_info": {
   "codemirror_mode": {
    "name": "ipython",
    "version": 3
   },
   "file_extension": ".py",
   "mimetype": "text/x-python",
   "name": "python",
   "nbconvert_exporter": "python",
   "pygments_lexer": "ipython3",
   "version": "3.8.8"
  }
 },
 "nbformat": 4,
 "nbformat_minor": 5
}
