{
 "cells": [
  {
   "cell_type": "code",
   "execution_count": 164,
   "metadata": {
    "scrolled": true
   },
   "outputs": [
    {
     "name": "stdout",
     "output_type": "stream",
     "text": [
      "Задание 1\n"
     ]
    }
   ],
   "source": [
    "print(\"Задание 1\")"
   ]
  },
  {
   "cell_type": "code",
   "execution_count": 165,
   "metadata": {},
   "outputs": [
    {
     "name": "stdout",
     "output_type": "stream",
     "text": [
      "Напишите слово: testing\n",
      "t\n"
     ]
    }
   ],
   "source": [
    "word = input(\"Напишите слово: \")\n",
    "word_lenght = len(word)\n",
    "check_1 = word_lenght / 2\n",
    "if word_lenght % 2 == 0:\n",
    "    print(word[int(check_1)-1:int(check_1)],word[int(check_1)])\n",
    "elif word_lenght % 2 !=0:\n",
    "    print(word[int(check_1)])"
   ]
  },
  {
   "cell_type": "code",
   "execution_count": 166,
   "metadata": {},
   "outputs": [
    {
     "name": "stdout",
     "output_type": "stream",
     "text": [
      "Задание 2\n"
     ]
    }
   ],
   "source": [
    "print(\"Задание 2\")"
   ]
  },
  {
   "cell_type": "code",
   "execution_count": 167,
   "metadata": {},
   "outputs": [
    {
     "name": "stdout",
     "output_type": "stream",
     "text": [
      "1\n",
      "5\n",
      "7\n",
      "0\n",
      "13\n"
     ]
    }
   ],
   "source": [
    "number = int(input())\n",
    "sum = 0\n",
    "while number != 0:\n",
    "    sum += number\n",
    "    number = int(input())\n",
    "print(sum)"
   ]
  },
  {
   "cell_type": "code",
   "execution_count": 168,
   "metadata": {},
   "outputs": [
    {
     "name": "stdout",
     "output_type": "stream",
     "text": [
      "Задание 3\n"
     ]
    }
   ],
   "source": [
    "print(\"Задание 3\")"
   ]
  },
  {
   "cell_type": "code",
   "execution_count": 169,
   "metadata": {},
   "outputs": [
    {
     "name": "stdout",
     "output_type": "stream",
     "text": [
      "Идеальные пары: [('Alex', 'Emma'), ('Arthur', 'Kate'), ('John', 'Kira'), ('Pete', 'Liza'), ('Richard', 'Trisha')]\n"
     ]
    }
   ],
   "source": [
    "boys = [\"Pete\", \"Alex\", \"John\", \"Arthur\", \"Richard\"]\n",
    "girls = ['Kate', 'Liza', 'Kira', 'Emma', 'Trisha']\n",
    "boys_1 = sorted(boys)\n",
    "girls_1 = sorted(girls)\n",
    "ideal_couples = zip(boys_1, girls_1)\n",
    "ideal_couples_2 = list(ideal_couples)\n",
    "if len(boys) == len(girls):\n",
    "        print(\"Идеальные пары:\", ideal_couples_2)\n",
    "else:\n",
    "        print(\"Внимание, кто-то может остаться без пары!\")"
   ]
  },
  {
   "cell_type": "code",
   "execution_count": 170,
   "metadata": {},
   "outputs": [
    {
     "name": "stdout",
     "output_type": "stream",
     "text": [
      "Внимание, кто-то может остаться без пары!\n"
     ]
    }
   ],
   "source": [
    "boys = [\"Pete\", \"Alex\", \"John\", \"Arthur\", \"Richard\", \"Michael\"]\n",
    "girls = ['Kate', 'Liza', 'Kira', 'Emma', 'Trisha']\n",
    "boys_1 = sorted(boys)\n",
    "girls_1 = sorted(girls)\n",
    "ideal_couples = zip(boys_1, girls_1)\n",
    "ideal_couples_2 = list(ideal_couples)\n",
    "if len(boys) == len(girls):\n",
    "        print(\"Идеальные пары:\", ideal_couples_2)\n",
    "else:\n",
    "        print(\"Внимание, кто-то может остаться без пары!\")"
   ]
  },
  {
   "cell_type": "code",
   "execution_count": 1,
   "metadata": {},
   "outputs": [
    {
     "name": "stdout",
     "output_type": "stream",
     "text": [
      "Задание 4\n"
     ]
    }
   ],
   "source": [
    "print(\"Задание 4\")"
   ]
  },
  {
   "cell_type": "code",
   "execution_count": 3,
   "metadata": {},
   "outputs": [
    {
     "name": "stdout",
     "output_type": "stream",
     "text": [
      "Thailand - 23.9 C\n",
      "Germany - 13.8 C\n",
      "Russia - 3.7 C\n",
      "Poland - 12.0 C\n"
     ]
    }
   ],
   "source": [
    "countries_temperature = [\n",
    "['Thailand', [75.2, 77, 78.8, 73.4, 68, 75.2, 77]],\n",
    "['Germany', [57.2, 55.4, 59, 59, 53.6]],\n",
    "['Russia', [35.6, 37.4, 39.2, 41, 42.8, 39.2, 35.6]],\n",
    "['Poland', [50, 50, 53.6, 57.2, 55.4, 55.4]]\n",
    "]\n",
    "for i in countries_temperature:\n",
    "    print(i[0], '-', round((sum(i[1]) / len(i[1]) - 32) / 1.8, 1), 'C')"
   ]
  }
 ],
 "metadata": {
  "kernelspec": {
   "display_name": "Python 3",
   "language": "python",
   "name": "python3"
  },
  "language_info": {
   "codemirror_mode": {
    "name": "ipython",
    "version": 3
   },
   "file_extension": ".py",
   "mimetype": "text/x-python",
   "name": "python",
   "nbconvert_exporter": "python",
   "pygments_lexer": "ipython3",
   "version": "3.8.8"
  }
 },
 "nbformat": 4,
 "nbformat_minor": 2
}
